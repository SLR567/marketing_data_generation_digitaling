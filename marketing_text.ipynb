{
 "cells": [
  {
   "cell_type": "code",
   "execution_count": 1,
   "id": "7c3c6c2a-b165-4f7c-933b-d5e73960bcfb",
   "metadata": {},
   "outputs": [],
   "source": [
    "import json\n",
    "\n",
    "# Load the JSON data from the file\n",
    "with open('marketing_image_file_text_filter.json', 'r') as file:\n",
    "    data = json.load(file)\n",
    "\n",
    "# Modify the format of the data\n",
    "modified_data = []\n",
    "for entry in data:\n",
    "    texts = [item.get(\"text\", \"\") for item in entry.get(\"context\", [])]\n",
    "    new_entry = {\n",
    "        \"instruction\": \"请撰写一篇营销软文，\",\n",
    "        \"input\": f\"标题为：{entry['title']}\",\n",
    "        #\"output\": entry['context'][0]['text']\n",
    "        \"output\": \"\\n\".join(texts)\n",
    "    }\n",
    "    modified_data.append(new_entry)\n",
    "\n",
    "# Save the modified data back to a JSON file\n",
    "with open('marketing_text.json', 'w') as file:\n",
    "    json.dump(modified_data, file, indent=2)"
   ]
  },
  {
   "cell_type": "code",
   "execution_count": null,
   "id": "37d52179-3766-495e-9300-c426b3e1a4d7",
   "metadata": {},
   "outputs": [],
   "source": []
  }
 ],
 "metadata": {
  "kernelspec": {
   "display_name": "Python 3 (ipykernel)",
   "language": "python",
   "name": "python3"
  },
  "language_info": {
   "codemirror_mode": {
    "name": "ipython",
    "version": 3
   },
   "file_extension": ".py",
   "mimetype": "text/x-python",
   "name": "python",
   "nbconvert_exporter": "python",
   "pygments_lexer": "ipython3",
   "version": "3.11.5"
  }
 },
 "nbformat": 4,
 "nbformat_minor": 5
}
